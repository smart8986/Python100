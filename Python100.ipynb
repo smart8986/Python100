{
 "metadata": {
  "language_info": {
   "codemirror_mode": {
    "name": "ipython",
    "version": 3
   },
   "file_extension": ".py",
   "mimetype": "text/x-python",
   "name": "python",
   "nbconvert_exporter": "python",
   "pygments_lexer": "ipython3",
   "version": "3.8.8"
  },
  "orig_nbformat": 2,
  "kernelspec": {
   "name": "python388jvsc74a57bd01baa965d5efe3ac65b79dfc60c0d706280b1da80fedb7760faf2759126c4f253",
   "display_name": "Python 3.8.8 64-bit"
  },
  "metadata": {
   "interpreter": {
    "hash": "1baa965d5efe3ac65b79dfc60c0d706280b1da80fedb7760faf2759126c4f253"
   }
  }
 },
 "nbformat": 4,
 "nbformat_minor": 2,
 "cells": [
  {
   "source": [
    "## 跳过题目列表：4，6-10，"
   ],
   "cell_type": "markdown",
   "metadata": {}
  },
  {
   "source": [
    "第1题 "
   ],
   "cell_type": "markdown",
   "metadata": {}
  },
  {
   "source": [
    "import os\n",
    "import sys\n",
    "\n",
    "nums = [1, 2, 3, 4]\n",
    "sums = 0\n",
    "\n",
    "for i in nums:\n",
    "    for j in nums:\n",
    "        for k in nums:\n",
    "            if i != j and j != k and k != i:\n",
    "                print(i, j, k)\n",
    "                sums += 1\n",
    "\n",
    "print(sums)\n"
   ],
   "cell_type": "code",
   "metadata": {},
   "execution_count": null,
   "outputs": []
  },
  {
   "source": [
    "第2题"
   ],
   "cell_type": "markdown",
   "metadata": {}
  },
  {
   "cell_type": "code",
   "execution_count": null,
   "metadata": {},
   "outputs": [],
   "source": [
    "l = float(input(\"请输入利润(万元)：\"))\n",
    "\n",
    "reward = 0\n",
    "\n",
    "sum = 0\n",
    "\n",
    "def show_reward(reward):\n",
    "    print(\"您的奖金是：\", reward, \"万元。\")\n",
    "    exit()\n",
    "\n",
    "\n",
    "if l < 10:\n",
    "    show_reward(l * 0.1)\n",
    "\n",
    "sum += 10 * 0.1\n",
    "if l < 20:\n",
    "    show_reward(sum + (l - 10) * 0.075)\n",
    "\n",
    "sum += 10 * 0.075\n",
    "if l < 40:\n",
    "    show_reward(sum + (l - 20) * 0.05)\n",
    "\n",
    "sum += 20 * 0.05\n",
    "if l < 60:\n",
    "    show_reward(sum + (l - 40) * 0.03)\n",
    "    \n",
    "sum += 20 * 0.03\n",
    "if l < 80:\n",
    "    show_reward(sum + (l - 60) * 0.015)\n",
    "\n",
    "sum += 20 * 0.015\n",
    "show_reward(sum + (l - 100) * 0.01)    \n"
   ]
  },
  {
   "source": [
    "第4题"
   ],
   "cell_type": "markdown",
   "metadata": {}
  },
  {
   "cell_type": "code",
   "execution_count": null,
   "metadata": {},
   "outputs": [],
   "source": [
    "def isLeapYear(y):\n",
    "    return (y@0==0 or (y%4==0 and y0!=0))\n",
    "\n",
    "DofM=[0,31,28,31,30,31,30,31,31,30,31,30]\n",
    "res=0\n",
    "year=int(input('Year:'))\n",
    "month=int(input('Month:'))\n",
    "day=int(input('day:'))\n",
    "if isLeapYear(year):\n",
    "    DofM[2]+=1\n",
    "\n",
    "for i in range(month):\n",
    "    res+=DofM[i]\n",
    "\n",
    "print(res+day)"
   ]
  },
  {
   "source": [
    "第5题"
   ],
   "cell_type": "markdown",
   "metadata": {}
  },
  {
   "cell_type": "code",
   "execution_count": null,
   "metadata": {},
   "outputs": [],
   "source": [
    "nums = []\n",
    "nums.append(int(input(\"第一个整数：\")))\n",
    "nums.append(int(input(\"第二个整数：\")))\n",
    "nums.append(int(input(\"第三个整数：\")))\n",
    "for num in sorted(nums):\n",
    "    print(num, end=' ')\n",
    "    \n"
   ]
  },
  {
   "source": [
    "第11题"
   ],
   "cell_type": "markdown",
   "metadata": {}
  },
  {
   "cell_type": "code",
   "execution_count": null,
   "metadata": {},
   "outputs": [],
   "source": [
    "month = int(input(\"请输入经过了几个月：\"))\n",
    "# 出生 [0个月、1个月、2个月、成熟] 的兔子\n",
    "rabbits = [1, 0, 0, 0]\n",
    "for i in range(month):\n",
    "    new_born = rabbits[3] + rabbits[2]\n",
    "    rabbits[3] += rabbits[2]\n",
    "    rabbits[2] = rabbits[1]\n",
    "    rabbits[1] = rabbits[0]\n",
    "    rabbits[0] = new_born\n",
    "\n",
    "print(\"刚出生的兔子：\" + str(rabbits[0]) + \"对\")\n",
    "print(\"一个月的兔子：\" + str(rabbits[1]) + \"对\")\n",
    "print(\"二个月的兔子：\" + str(rabbits[2]) + \"对\")\n",
    "print(\"已成熟的兔子：\" + str(rabbits[3]) + \"对\")\n",
    "print(\"总共\" + str(sum(rabbits)) + \"对兔子。\")\n"
   ]
  },
  {
   "source": [
    "第12题"
   ],
   "cell_type": "markdown",
   "metadata": {}
  },
  {
   "cell_type": "code",
   "execution_count": null,
   "metadata": {},
   "outputs": [],
   "source": [
    "import math\n",
    "\n",
    "total = 0\n",
    "for i in range(100, 201):\n",
    "    for j in range(2, int(math.sqrt(i)) + 1):\n",
    "        if i % j == 0:\n",
    "            break\n",
    "    \n",
    "    else:\n",
    "        print(i)\n",
    "        total += 1\n",
    "\n",
    "print(total)\n",
    "\n"
   ]
  },
  {
   "source": [
    "第13题"
   ],
   "cell_type": "markdown",
   "metadata": {}
  },
  {
   "cell_type": "code",
   "execution_count": null,
   "metadata": {},
   "outputs": [],
   "source": [
    "import os\n",
    "import sys\n",
    "\n",
    "for i in range(100, 1000):\n",
    "    if ((i % 10) ** 3 + (i // 10 % 10) ** 3 + (i // 100) ** 3) == i:\n",
    "        print(i)\n"
   ]
  },
  {
   "source": [
    "第14题"
   ],
   "cell_type": "markdown",
   "metadata": {}
  },
  {
   "cell_type": "code",
   "execution_count": 54,
   "metadata": {},
   "outputs": [
    {
     "output_type": "stream",
     "name": "stdout",
     "text": [
      "210=2*3*5*7\n"
     ]
    }
   ],
   "source": [
    "import os, sys\n",
    "\n",
    "# num = int(input(\"请输入一个整数:\"))\n",
    "num = 210\n",
    "primes = []\n",
    "\n",
    "def get_first_prime(num, primes):\n",
    "    if num <= 2:\n",
    "        return\n",
    "    for i in range(2, num+1):\n",
    "        if num % i == 0:\n",
    "            primes.append(i)\n",
    "            get_first_prime(num // i, primes)\n",
    "            return\n",
    "\n",
    "get_first_prime(num, primes)\n",
    "print(num, end='=')\n",
    "print(*primes, sep='*')"
   ]
  },
  {
   "source": [
    "第15题"
   ],
   "cell_type": "markdown",
   "metadata": {}
  },
  {
   "source": [
    "score = int(input(\"请输入分数：\"))\n",
    "if score >= 90:\n",
    "    print(\"A\")\n",
    "\n",
    "elif score >= 60:\n",
    "    print(\"B\")\n",
    "\n",
    "else:\n",
    "    print(\"C\")\n",
    "    "
   ],
   "cell_type": "code",
   "metadata": {},
   "execution_count": 45,
   "outputs": [
    {
     "output_type": "stream",
     "name": "stdout",
     "text": [
      "C\n"
     ]
    }
   ]
  },
  {
   "source": [
    "第16题"
   ],
   "cell_type": "markdown",
   "metadata": {}
  },
  {
   "cell_type": "code",
   "execution_count": 15,
   "metadata": {},
   "outputs": [
    {
     "output_type": "stream",
     "name": "stdout",
     "text": [
      "2021-05-01\n2021-12-13\n01/05/2021\n2044-02-03\n"
     ]
    }
   ],
   "source": [
    "import datetime\n",
    "\n",
    "print(datetime.date.today())\n",
    "print(datetime.date(2021,12,13))\n",
    "print(datetime.date.today().strftime('%d/%m/%Y'))\n",
    "day=datetime.date(2022,2,3)\n",
    "day=day.replace(year=day.year+22)\n",
    "print(day)"
   ]
  },
  {
   "source": [
    "第17题"
   ],
   "cell_type": "markdown",
   "metadata": {}
  },
  {
   "cell_type": "code",
   "execution_count": 41,
   "metadata": {},
   "outputs": [
    {
     "output_type": "stream",
     "name": "stdout",
     "text": [
      "AzZahh01892!~_+-     \n字母:6个,数字:5个,空格:5个,其他:5个\n"
     ]
    }
   ],
   "source": [
    "str_1 = input(\"请输入一段字符串\")\n",
    "count_char = 0\n",
    "count_num = 0\n",
    "count_space = 0\n",
    "count_other = 0\n",
    "for ele in list(str_1):\n",
    "    if 'a' <= ele and ele <= 'z':\n",
    "        count_char += 1\n",
    "        continue\n",
    "\n",
    "    if 'A' <= ele and ele <= 'Z':\n",
    "        count_char += 1\n",
    "        continue\n",
    "\n",
    "    if '0' <= ele and ele <= '9':\n",
    "        count_num += 1\n",
    "        continue\n",
    "    \n",
    "    if ele == ' ':\n",
    "        count_space += 1        \n",
    "        continue\n",
    "    \n",
    "    count_other += 1     \n",
    "\n",
    "print(str_1)\n",
    "print(f\"字母:{count_char}个,数字:{count_num}个,空格:{count_space}个,其他:{count_other}个\")"
   ]
  },
  {
   "source": [
    "第18题"
   ],
   "cell_type": "markdown",
   "metadata": {}
  },
  {
   "cell_type": "code",
   "execution_count": 17,
   "metadata": {},
   "outputs": [
    {
     "output_type": "stream",
     "name": "stdout",
     "text": [
      "1\n"
     ]
    }
   ],
   "source": [
    "num = int(input(\"请输入需要加的数字:\"))\n",
    "n = int(input(\"请输入需要加的次数\"))\n",
    "res = 0\n",
    "for i in range(1, n+1):\n",
    "    for j in range(i):\n",
    "        res += num*pow(10, j)\n",
    "\n",
    "print(res)\n"
   ]
  },
  {
   "source": [
    "第29题"
   ],
   "cell_type": "markdown",
   "metadata": {}
  },
  {
   "cell_type": "code",
   "execution_count": 17,
   "metadata": {},
   "outputs": [
    {
     "output_type": "stream",
     "name": "stdout",
     "text": [
      "3\n321\n"
     ]
    }
   ],
   "source": [
    "num = input(\"请输入：\")\n",
    "print(len(num))\n",
    "print(num[::-1])"
   ]
  },
  {
   "cell_type": "code",
   "execution_count": 10,
   "metadata": {},
   "outputs": [
    {
     "output_type": "stream",
     "name": "stdout",
     "text": [
      "0\n2\n4\n6\n8\n"
     ]
    }
   ],
   "source": [
    "for i in range(0, 10, 2):\n",
    "    print(i)"
   ]
  },
  {
   "source": [
    "第30题"
   ],
   "cell_type": "markdown",
   "metadata": {}
  },
  {
   "cell_type": "code",
   "execution_count": 20,
   "metadata": {},
   "outputs": [
    {
     "output_type": "stream",
     "name": "stdout",
     "text": [
      "yes\n"
     ]
    }
   ],
   "source": [
    "n = input(\"请输入5位数：\")\n",
    "if n[4] == n[0] and n[3] == n[1]:\n",
    "    print('yes')\n",
    "else:\n",
    "    print('no')\n",
    "\n"
   ]
  }
 ]
}